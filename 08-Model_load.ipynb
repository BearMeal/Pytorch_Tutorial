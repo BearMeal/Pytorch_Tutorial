{
 "cells": [
  {
   "cell_type": "code",
   "execution_count": 1,
   "metadata": {},
   "outputs": [
    {
     "data": {
      "text/plain": [
       "NeuralNetwork(\n",
       "  (flatten): Flatten(start_dim=1, end_dim=-1)\n",
       "  (linear_leakyrelu_stack): Sequential(\n",
       "    (0): Linear(in_features=784, out_features=512, bias=True)\n",
       "    (1): LeakyReLU(negative_slope=0.01)\n",
       "    (2): Linear(in_features=512, out_features=512, bias=True)\n",
       "    (3): LeakyReLU(negative_slope=0.01)\n",
       "    (4): Linear(in_features=512, out_features=10, bias=True)\n",
       "  )\n",
       ")"
      ]
     },
     "execution_count": 1,
     "metadata": {},
     "output_type": "execute_result"
    }
   ],
   "source": [
    "# 저장된 모델을 불러온다\n",
    "# 먼저 동일한 네트워크 인스턴스를 불러온다\n",
    "import torch\n",
    "import torch.nn as nn\n",
    "\n",
    "# 신경망 정의 \n",
    "class NeuralNetwork(nn.Module):\n",
    "    def __init__(self):\n",
    "        super().__init__()\n",
    "        self.flatten = nn.Flatten()\n",
    "        self.linear_leakyrelu_stack = nn.Sequential(\n",
    "            # 입력 784채널 출력 512채널\n",
    "            nn.Linear(28*28, 512),\n",
    "            nn.LeakyReLU(),\n",
    "            nn.Linear(512,512),\n",
    "            nn.LeakyReLU(),\n",
    "            nn.Linear(512,10),\n",
    "        )\n",
    "        \n",
    "    def forward(self, x):\n",
    "        x = self.flatten(x)\n",
    "        logits = self.linear_leakyrelu_stack(x)\n",
    "        return logits\n",
    "\n",
    "# 모델 인스턴스 생성\n",
    "model =  NeuralNetwork()\n",
    "model\n",
    "    \n"
   ]
  },
  {
   "cell_type": "code",
   "execution_count": 2,
   "metadata": {},
   "outputs": [
    {
     "data": {
      "text/plain": [
       "<All keys matched successfully>"
      ]
     },
     "execution_count": 2,
     "metadata": {},
     "output_type": "execute_result"
    }
   ],
   "source": [
    "# 가중치 불러오기\n",
    "model.load_state_dict(torch.load('./model_07.pth'))\n",
    "model.eval() # 추론 모드\n"
   ]
  },
  {
   "cell_type": "code",
   "execution_count": 3,
   "metadata": {},
   "outputs": [],
   "source": [
    "# 모델구조와 함께 저장할수도있다\n",
    "torch.save(model,'model_with_networks.pth')"
   ]
  },
  {
   "cell_type": "code",
   "execution_count": 2,
   "metadata": {},
   "outputs": [
    {
     "data": {
      "text/plain": [
       "NeuralNetwork(\n",
       "  (flatten): Flatten(start_dim=1, end_dim=-1)\n",
       "  (linear_leakyrelu_stack): Sequential(\n",
       "    (0): Linear(in_features=784, out_features=512, bias=True)\n",
       "    (1): LeakyReLU(negative_slope=0.01)\n",
       "    (2): Linear(in_features=512, out_features=512, bias=True)\n",
       "    (3): LeakyReLU(negative_slope=0.01)\n",
       "    (4): Linear(in_features=512, out_features=10, bias=True)\n",
       "  )\n",
       ")"
      ]
     },
     "execution_count": 2,
     "metadata": {},
     "output_type": "execute_result"
    }
   ],
   "source": [
    "# 불러와서 다시 네트워크 구조 확인해보기\n",
    "import torch \n",
    "import torch.nn as nn\n",
    "# 저장된 모델을 불러온다\n",
    "# 먼저 동일한 네트워크 인스턴스를 불러온다\n",
    "import torch\n",
    "import torch.nn as nn\n",
    "\n",
    "# 신경망 정의 \n",
    "class NeuralNetwork(nn.Module):\n",
    "    def __init__(self):\n",
    "        super().__init__()\n",
    "        self.flatten = nn.Flatten()\n",
    "        self.linear_leakyrelu_stack = nn.Sequential(\n",
    "            # 입력 784채널 출력 512채널\n",
    "            nn.Linear(28*28, 512),\n",
    "            nn.LeakyReLU(),\n",
    "            nn.Linear(512,512),\n",
    "            nn.LeakyReLU(),\n",
    "            nn.Linear(512,10),\n",
    "        )\n",
    "        \n",
    "    def forward(self, x):\n",
    "        x = self.flatten(x)\n",
    "        logits = self.linear_leakyrelu_stack(x)\n",
    "        return logits\n",
    "\n",
    "# 모델 인스턴스 생성\n",
    "model =  NeuralNetwork()\n",
    "model\n",
    "    \n",
    "\n",
    "model.load_state_dict(torch.load('./model_07.pth'))\n",
    "\n",
    "#추론모드로 저장하면 안불러와짐\n",
    "torch.save(model,'model_with_networks.pth')\n",
    "\n",
    "model = torch.load('model_with_networks.pth')\n",
    "\n",
    "model"
   ]
  }
 ],
 "metadata": {
  "kernelspec": {
   "display_name": "Python 3",
   "language": "python",
   "name": "python3"
  },
  "language_info": {
   "codemirror_mode": {
    "name": "ipython",
    "version": 3
   },
   "file_extension": ".py",
   "mimetype": "text/x-python",
   "name": "python",
   "nbconvert_exporter": "python",
   "pygments_lexer": "ipython3",
   "version": "3.11.5"
  }
 },
 "nbformat": 4,
 "nbformat_minor": 2
}
