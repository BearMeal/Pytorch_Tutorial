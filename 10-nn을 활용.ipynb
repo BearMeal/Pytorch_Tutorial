{
 "cells": [
  {
   "cell_type": "markdown",
   "metadata": {},
   "source": [
    "# torch.nn은 무엇인가\n",
    "- 앞서 파이썬만으로 아주 기초적인 네트워크를 구성 해보았다\n",
    "- 이번엔 torch.nn의 다양한 함수를 사용해 더 보기편하게 만들것이다"
   ]
  },
  {
   "cell_type": "code",
   "execution_count": 1,
   "metadata": {},
   "outputs": [
    {
     "name": "stdout",
     "output_type": "stream",
     "text": [
      "data\n",
      "data\\mnist\n"
     ]
    }
   ],
   "source": [
    "# 데이터 다운로드 및 저장\n",
    "from pathlib import Path\n",
    "import requests\n",
    "\n",
    "# data 폴더 경로를 가져온다\n",
    "DATA_PATH = Path('data')\n",
    "print(DATA_PATH)\n",
    "# mnist를 넣을 폴더경로를 초기화한다\n",
    "PATH = DATA_PATH / 'mnist'\n",
    "print(PATH)\n",
    "# mnist 폴더를 만든다\n",
    "PATH.mkdir(parents=True, exist_ok=True)\n",
    "\n",
    "# 링크 주소와 가져올 파일이름을 지정\n",
    "URL = \"https://github.com/pytorch/tutorials/raw/main/_static/\"\n",
    "FILENAME = \"mnist.pkl.gz\"\n",
    "\n",
    "# 해당파일이 없으면 request 하여 해당파일을 가져와 저장한다\n",
    "if not (PATH / FILENAME).exists():\n",
    "        content = requests.get(URL + FILENAME).content\n",
    "        # 파일을 바이너리쓰기 모드로 호출하여 다운받은 내용을 써준다\n",
    "        (PATH / FILENAME).open(\"wb\").write(content)\n",
    "        \n"
   ]
  },
  {
   "cell_type": "code",
   "execution_count": 2,
   "metadata": {},
   "outputs": [],
   "source": [
    "# 학습 데이터 초기화\n",
    "import pickle\n",
    "import gzip\n",
    "\n",
    "# 압축된 gz파일을 열어 문자열형태로 전달한다\n",
    "with gzip.open((PATH/FILENAME).as_posix(), \"rb\") as f:\n",
    "    # 피클파일에서 학습데이터 초기화\n",
    "    ((x_train, y_train), (x_valid,y_valid), _) = pickle.load(f,\n",
    "    encoding='latin-1')"
   ]
  },
  {
   "cell_type": "code",
   "execution_count": 3,
   "metadata": {},
   "outputs": [
    {
     "data": {
      "image/png": "[encoded data removed]",
      "text/plain": [
       "<Figure size 640x480 with 1 Axes>"
      ]
     },
     "metadata": {},
     "output_type": "display_data"
    },
    {
     "name": "stdout",
     "output_type": "stream",
     "text": [
      "<class 'numpy.ndarray'>\n",
      "(50000, 784)\n"
     ]
    }
   ],
   "source": [
    "# 데이터 이미지 확인\n",
    "import matplotlib.pyplot as plt\n",
    "import numpy as np\n",
    "plt.imshow(x_train[0].reshape((28,28)), cmap='gray')\n",
    "plt.show()\n",
    "\n",
    "print(type(x_train)) # 넘파이배열이다\n",
    "print(x_train.shape)  # 5만개, 784길이의 배열\n",
    "# 이를 28,28형태로 바꾸어 이미지로 볼수있는것이다"
   ]
  },
  {
   "cell_type": "code",
   "execution_count": 4,
   "metadata": {},
   "outputs": [
    {
     "name": "stdout",
     "output_type": "stream",
     "text": [
      "tensor([[0., 0., 0.,  ..., 0., 0., 0.],\n",
      "        [0., 0., 0.,  ..., 0., 0., 0.],\n",
      "        [0., 0., 0.,  ..., 0., 0., 0.],\n",
      "        ...,\n",
      "        [0., 0., 0.,  ..., 0., 0., 0.],\n",
      "        [0., 0., 0.,  ..., 0., 0., 0.],\n",
      "        [0., 0., 0.,  ..., 0., 0., 0.]]) tensor([5, 0, 4,  ..., 8, 4, 8])\n",
      "torch.Size([50000, 784])\n",
      "tensor(0) tensor(9)\n"
     ]
    }
   ],
   "source": [
    "# 넘파이 배열을 텐서로 변환\n",
    "import torch\n",
    "x_train, y_train, x_valid, y_valid = map(\n",
    "    torch.tensor, (x_train,y_train, x_valid, y_valid)\n",
    ")\n",
    "\n",
    "n, c = x_train.shape\n",
    "print(x_train,y_train) #텐서확인\n",
    "print(x_train.shape) # 텐서형태(사이즈) 확인\n",
    "print(min(y_train), max(y_train))  # 타겟데이터 range 확인"
   ]
  },
  {
   "cell_type": "code",
   "execution_count": 5,
   "metadata": {},
   "outputs": [
    {
     "name": "stdout",
     "output_type": "stream",
     "text": [
      "tensor([[ 0.0253,  0.0412, -0.0353,  ...,  0.0255,  0.0073, -0.0514],\n",
      "        [ 0.0231,  0.0084, -0.0358,  ...,  0.0045,  0.0435, -0.0939],\n",
      "        [-0.0516, -0.0895,  0.0209,  ...,  0.0170,  0.0257,  0.0389],\n",
      "        ...,\n",
      "        [ 0.0143,  0.0385, -0.0248,  ..., -0.0342,  0.0378, -0.0163],\n",
      "        [ 0.0150, -0.0424,  0.0055,  ...,  0.0148, -0.0287,  0.0031],\n",
      "        [-0.0101,  0.0228,  0.0106,  ...,  0.0551,  0.0267, -0.0670]],\n",
      "       requires_grad=True)\n"
     ]
    }
   ],
   "source": [
    "# nn.Module을 사용하지않고 텐서로만 네트워크 기초 구성해보기\n",
    "import math\n",
    "# 가중치는 Xavier initialisation 으로 초기화한다\n",
    "weights = torch.randn(784,10) / math.sqrt(784)\n",
    "# 텐서의 그래이디언트 계산 여부를 설정  # 후행_은 원본텐서를 직접 변경하는것\n",
    "# 이렇게하면 backward()할때 자동으로 미분계산됨(그래이디언트를 계산함) \n",
    "weights.requires_grad_()\n",
    "print(weights)\n",
    "# 10개의 편향 값을 0으로 생성해둠 , 자동미분도 활성\n",
    "bias = torch.zeros(10,  requires_grad=True)\n"
   ]
  },
  {
   "cell_type": "code",
   "execution_count": 6,
   "metadata": {},
   "outputs": [],
   "source": [
    "# 하나의 배치만 예측해보기\n",
    "bs = 64 \n",
    "xb = x_train[0:bs]\n",
    "# preds = model(xb)\n",
    "# print(preds[0], preds.shape)\n",
    "\n",
    "yb = y_train[0:bs]\n"
   ]
  },
  {
   "cell_type": "code",
   "execution_count": 7,
   "metadata": {},
   "outputs": [],
   "source": [
    "# 예측이 정확한지 확인해보기\n",
    "def accuracy(out, yb):\n",
    "    preds = torch.argmax(out, dim=1)\n",
    "    return (preds==yb).float().mean()\n",
    "\n",
    "# print(accuracy(preds, yb))\n",
    "# print(preds)\n",
    "# torch.argmax(preds, dim=1)\n",
    "\n",
    "# 활성화함수와 로스펑션을 합친다\n",
    "import torch.nn.functional as F\n",
    "\n",
    "# 크로스엔트로피에는 nll과 log softmax계산이 같이 포함되어 있다\n",
    "loss_func = F.cross_entropy\n"
   ]
  },
  {
   "cell_type": "code",
   "execution_count": 8,
   "metadata": {},
   "outputs": [
    {
     "name": "stdout",
     "output_type": "stream",
     "text": [
      "tensor(2.3072, grad_fn=<NllLossBackward0>) tensor(0.0781)\n"
     ]
    }
   ],
   "source": [
    "# 모델을 재구성해본다\n",
    "# nn.Module을 사용해 모델 구성해보기\n",
    "from torch import nn\n",
    "\n",
    "class Mnist_Logistic(nn.Module):\n",
    "    def __init__(self):\n",
    "        super().__init__()\n",
    "        self.lin = nn.Linear(784, 10)\n",
    "        \n",
    "    def forward(self,xb):\n",
    "        return self.lin(xb)\n",
    "\n",
    "# 클래스로 하기때문에 초기화를 이렇게 해준다 \n",
    "model = Mnist_Logistic()\n",
    "\n",
    "# 그러면 똑같이 결과를 볼수있다\n",
    "print(loss_func(model(xb), yb), accuracy(model(xb), yb))"
   ]
  },
  {
   "cell_type": "code",
   "execution_count": 9,
   "metadata": {},
   "outputs": [],
   "source": [
    "# dataloader 사용해보기\n",
    "from torch.utils.data import DataLoader, TensorDataset\n",
    "\n",
    "# 데이터셋을 만들고\n",
    "train_ds = TensorDataset(x_train, y_train) \n",
    "#이제 이렇게 할수 있다\n",
    "# xb, yb = train_ds[i*bs: i*bs+bs]\n",
    "\n",
    "# 거기에 데이터 로더를 만들면 배치만큼 학습시키기 편해진다\n",
    "train_dl = DataLoader(train_ds, batch_size=bs, shuffle=True)\n",
    "\n",
    "# 검증용도 따로 만든다\n",
    "valid_ds = TensorDataset(x_valid, y_valid)\n",
    "valid_dl = DataLoader(valid_ds, batch_size=bs*2)"
   ]
  },
  {
   "cell_type": "code",
   "execution_count": 10,
   "metadata": {},
   "outputs": [
    {
     "name": "stderr",
     "output_type": "stream",
     "text": [
      "c:\\Users\\82105\\AppData\\Local\\Programs\\Python\\Python311\\Lib\\site-packages\\tqdm\\auto.py:21: TqdmWarning: IProgress not found. Please update jupyter and ipywidgets. See https://ipywidgets.readthedocs.io/en/stable/user_install.html\n",
      "  from .autonotebook import tqdm as notebook_tqdm\n"
     ]
    },
    {
     "name": "stdout",
     "output_type": "stream",
     "text": [
      "0 0.33549554142951965\n",
      "1 0.2928572556257248\n",
      "2 0.3020114561021328\n",
      "3 0.26980730143785475\n",
      "4 0.29807566084861753\n",
      "tensor(0.1348, grad_fn=<NllLossBackward0>)\n"
     ]
    }
   ],
   "source": [
    "#학습코드를 간략화 할수있다 \n",
    "from torch import optim\n",
    "def loss_batch(model, loss_func, xb,yb, opt=None):\n",
    "    loss = loss_func(model(xb), yb)\n",
    "    \n",
    "    if opt is not None:\n",
    "        loss.backward()\n",
    "        opt.step()\n",
    "        opt.zero_grad()\n",
    "    return loss.item(), len(xb)\n",
    "\n",
    "def fit(epochs, model, loss_func, opt, train_dl, valid_dl):\n",
    "    for epoch in range(epochs):\n",
    "        model.train() #학습모드\n",
    "        # for i in range((n-1)// bs +1):\n",
    "        #     xb, yb = train_ds[i*bs:i*bs+bs]\n",
    "        for xb,yb in train_dl:\n",
    "            # pred = model(xb)\n",
    "            # loss = loss_func(pred, yb)\n",
    "            # loss.backward()\n",
    "            # opt.step()\n",
    "            # opt.zero_grad()\n",
    "            loss_batch(model, loss_func, xb,yb, opt)\n",
    "            \n",
    "        model.eval() #추론모드\n",
    "        with torch.no_grad():\n",
    "            # valid_loss = sum(loss_func(model(xb), yb)for xb,yb in valid_dl)\n",
    "            losses, nums = zip( *[loss_batch(model,loss_func,xb,yb) for xb, yb in valid_dl])\n",
    "        \n",
    "        val_loss = np.sum(np.multiply(losses, nums)) / np.sum(nums)\n",
    "        # print(epoch, valid_loss/len(valid_dl))\n",
    "        print(epoch, val_loss)\n",
    "\n",
    "epochs = 5   \n",
    "opt = optim.SGD(model.parameters(), lr=0.5)\n",
    "fit(epochs, model, loss_func, opt, train_dl, valid_dl)\n",
    "print(loss_func(model(xb), yb))\n"
   ]
  },
  {
   "cell_type": "code",
   "execution_count": 12,
   "metadata": {},
   "outputs": [
    {
     "name": "stdout",
     "output_type": "stream",
     "text": [
      "0 0.2776214311599731\n",
      "1 0.3019499307751656\n",
      "2 0.33764593900442125\n",
      "3 0.2873711149454117\n",
      "4 0.2933280053734779\n"
     ]
    }
   ],
   "source": [
    "# 데이터로드를 만드는 함수를 만드어서 구성하면 더간단해짐\n",
    "def get_data(train_ds, valid_ds, bs):\n",
    "    return (\n",
    "        DataLoader(train_ds, batch_size=bs, shuffle=True),\n",
    "        DataLoader(valid_ds, batch_size=bs*2 ),\n",
    "    )\n",
    "    \n",
    "train_dl, valid_dl = get_data(train_ds, valid_ds, bs)\n",
    "fit(epochs, model, loss_func, opt, train_dl, valid_dl)"
   ]
  },
  {
   "cell_type": "code",
   "execution_count": 14,
   "metadata": {},
   "outputs": [
    {
     "name": "stdout",
     "output_type": "stream",
     "text": [
      "0 0.31702889465093614\n",
      "1 0.270516131901741\n",
      "2 0.20579827901721\n",
      "3 0.16876020707786082\n",
      "4 0.16174777357876302\n"
     ]
    }
   ],
   "source": [
    "# CNN 모델을 만드렁본다\n",
    "class Mnist_CNN(nn.Module):\n",
    "    def __init__(self):\n",
    "        super().__init__()\n",
    "        self.conv1 = nn.Conv2d(1, 16, kernel_size=3, stride=2, padding=1)\n",
    "        self.conv2 = nn.Conv2d(16, 32, kernel_size=3, stride=2, padding=1)\n",
    "        self.conv3 = nn.Conv2d(32, 10, kernel_size=3, stride=2, padding=1)\n",
    "        \n",
    "    def forward(self, xb):\n",
    "        xb = xb.view(-1, 1, 28, 28) # reshape랑 같다\n",
    "        xb = F.relu(self.conv1(xb))\n",
    "        xb = F.relu(self.conv2(xb))\n",
    "        xb = F.relu(self.conv3(xb))\n",
    "        xb = F.avg_pool2d(xb, 4)\n",
    "        return xb.view(-1, xb.size(1))\n",
    "\n",
    "lr = 0.1\n",
    "\n",
    "model = Mnist_CNN()\n",
    "# momentum: 이전의 업데이트를 고려하는 확률적경사하강법의 편차\n",
    "opt = optim.SGD(model.parameters(), lr=lr, momentum=0.9)  \n",
    "fit(epochs, model, loss_func, opt, train_dl, valid_dl)  \n",
    "        "
   ]
  },
  {
   "cell_type": "code",
   "execution_count": 15,
   "metadata": {},
   "outputs": [
    {
     "name": "stdout",
     "output_type": "stream",
     "text": [
      "0 0.4323969729423523\n",
      "1 0.2120158810377121\n",
      "2 0.17575165195763112\n",
      "3 0.16344655957221985\n",
      "4 0.17871132216453553\n"
     ]
    }
   ],
   "source": [
    "# sequential하게 만들어 본다\n",
    "class Lambda(nn.Module):\n",
    "    def __init__(self, func):\n",
    "        super().__init__()\n",
    "        self.func = func\n",
    "        \n",
    "    def forward(self, x):\n",
    "        return self.func(x)\n",
    "    \n",
    "def preprocess(x):\n",
    "    return x.view(-1, 1, 28,28)\n",
    "\n",
    "model = nn.Sequential(\n",
    "    Lambda(preprocess),\n",
    "    nn.Conv2d(1, 16, kernel_size=3, stride=2, padding=1),\n",
    "    nn.ReLU(),\n",
    "    nn.Conv2d(16, 32, kernel_size=3, stride=2, padding=1),\n",
    "    nn.ReLU(),\n",
    "    nn.Conv2d(32, 10, kernel_size=3, stride=2, padding=1),\n",
    "    nn.ReLU(),\n",
    "    nn.AvgPool2d(4),\n",
    "    Lambda(lambda x: x.view(x.size(0), -1)),\n",
    ")\n",
    "\n",
    "opt = optim.SGD(model.parameters(), lr=lr, momentum=0.9)\n",
    "fit(epochs, model, loss_func, opt, train_dl, valid_dl)"
   ]
  }
 ],
 "metadata": {
  "kernelspec": {
   "display_name": "Python 3",
   "language": "python",
   "name": "python3"
  },
  "language_info": {
   "codemirror_mode": {
    "name": "ipython",
    "version": 3
   },
   "file_extension": ".py",
   "mimetype": "text/x-python",
   "name": "python",
   "nbconvert_exporter": "python",
   "pygments_lexer": "ipython3",
   "version": "3.11.5"
  }
 },
 "nbformat": 4,
 "nbformat_minor": 2
}
