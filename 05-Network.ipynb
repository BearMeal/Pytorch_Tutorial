{
 "cells": [
  {
   "cell_type": "markdown",
   "metadata": {},
   "source": [
    "# 신경망 모델 만들기\n",
    "- 신경망은 데이터 연산을 수행하는 layers와 module로 구성된다.\n",
    "- 신경망은 다른layer(모듈)로 구성된 하나의 모듈이다. \n",
    "- 이렇게 중첩된구조는 복잡한 아키텍처를쉽게 구축하고 관리하는데 좋다\n"
   ]
  },
  {
   "cell_type": "code",
   "execution_count": 11,
   "metadata": {},
   "outputs": [
    {
     "name": "stdout",
     "output_type": "stream",
     "text": [
      "using cpu\n"
     ]
    }
   ],
   "source": [
    "# fashionMNIST 분류하는 신경망 만들어 보기\n",
    "\n",
    "import os\n",
    "import torch\n",
    "from torch import nn\n",
    "from torch.utils.data import DataLoader\n",
    "from torchvision import datasets, transforms\n",
    "\n",
    "device = ('cuda' if torch.cuda.is_available()\n",
    "          else 'cpu')\n",
    "\n",
    "print(f'using {device}')"
   ]
  },
  {
   "cell_type": "code",
   "execution_count": 12,
   "metadata": {},
   "outputs": [],
   "source": [
    "class NeuralNetwork(nn.Module):\n",
    "    def __init__(self):\n",
    "        # 인잇에서는 신경망의 레이어를 정의한다\n",
    "        super().__init__()\n",
    "        self.flatten = nn.Flatten()\n",
    "        self.linear_relu_stack = nn.Sequential(\n",
    "            nn.Linear(28*28, 512),\n",
    "            nn.ReLU(),\n",
    "            nn.Linear(512,512),\n",
    "            nn.ReLU(),\n",
    "            nn.Linear (512, 10),\n",
    "        )\n",
    "    \n",
    "    # 포워드에서는 입력받은 데이터들에 대한 연산을 수행한다\n",
    "    def forward(self, x):\n",
    "        x = self.flatten(x)\n",
    "        logits = self.linear_relu_stack(x)\n",
    "        return logits\n",
    "    "
   ]
  },
  {
   "cell_type": "code",
   "execution_count": 13,
   "metadata": {},
   "outputs": [
    {
     "name": "stdout",
     "output_type": "stream",
     "text": [
      "NeuralNetwork(\n",
      "  (flatten): Flatten(start_dim=1, end_dim=-1)\n",
      "  (linear_relu_stack): Sequential(\n",
      "    (0): Linear(in_features=784, out_features=512, bias=True)\n",
      "    (1): ReLU()\n",
      "    (2): Linear(in_features=512, out_features=512, bias=True)\n",
      "    (3): ReLU()\n",
      "    (4): Linear(in_features=512, out_features=10, bias=True)\n",
      "  )\n",
      ")\n"
     ]
    }
   ],
   "source": [
    "# NeuralNetwork의 인스턴스를 생성해준다\n",
    "model = NeuralNetwork().to(device)\n",
    "\n",
    "# 모델 구조 확인\n",
    "print(model)"
   ]
  },
  {
   "cell_type": "code",
   "execution_count": 45,
   "metadata": {},
   "outputs": [
    {
     "name": "stdout",
     "output_type": "stream",
     "text": [
      "tensor([[-0.0455, -0.0611, -0.0040,  0.0300, -0.0768, -0.1588, -0.1163,  0.0160,\n",
      "          0.0105,  0.2520]], grad_fn=<AddmmBackward0>)\n",
      "tensor(1., grad_fn=<AddBackward0>)\n",
      "Predicted class: tensor([9])\n"
     ]
    }
   ],
   "source": [
    "X = torch.rand(1, 28, 28, device = device) # 랜덤데이터 생성\n",
    "logits = model(X)\n",
    "print(logits) # 로짓데이터이다 이를 소프트맥스함수에 통과시켜 확률로 확인한다.\n",
    "\n",
    "pred_probab = nn.Softmax(dim=1)(logits)\n",
    "print(sum(pred_probab[0]))  # 확률로 확인한다.\n",
    "\n",
    "y_pred = pred_probab.argmax(1)\n",
    "print(f\"Predicted class: {y_pred}\")\n",
    "\n"
   ]
  },
  {
   "cell_type": "code",
   "execution_count": 64,
   "metadata": {},
   "outputs": [
    {
     "name": "stdout",
     "output_type": "stream",
     "text": [
      "torch.Size([3, 28, 28])\n",
      "torch.Size([3, 20])\n"
     ]
    }
   ],
   "source": [
    "# 3개의 이미지를 생성하여 신경망 통과시에 어떤일이 일어나는지 보기\n",
    "input_image = torch.rand(3,28,28)\n",
    "print(input_image.size())\n",
    "\n",
    "# flatten = nn.Flatten()\n",
    "# 이미지가 통과하면 784개의 데이터가 하나의 배열이 된다\n",
    "nn.Flatten()(input_image).size()\n",
    "flat_image = nn.Flatten()(input_image)\n",
    "\n",
    "# 선형레이어이다. 가중치와 편향을 사용해 입력 데이터에 선형변환을 한다\n",
    "layer1 = nn.Linear(in_features=28*28, out_features=20)\n",
    "hidden1 = layer1(flat_image)\n",
    "print(hidden1.size()) # 784개의 데이터가 선형변환되어 20개가 되었다\n"
   ]
  },
  {
   "cell_type": "code",
   "execution_count": null,
   "metadata": {},
   "outputs": [],
   "source": [
    "# 렐루 활성화 함수를 적용하여 비선형성을 도입한다\n",
    "\n",
    "print(f\"Before ReLU: {hidden1}\\n\\n\")\n",
    "hidden1 = nn.ReLU()(hidden1)\n",
    "print(f\"After ReLU: {hidden1}\")"
   ]
  },
  {
   "cell_type": "code",
   "execution_count": 72,
   "metadata": {},
   "outputs": [
    {
     "data": {
      "text/plain": [
       "tensor([[-0.0355,  0.0294,  0.1307, -0.2620,  0.1019,  0.1235, -0.1135,  0.2825,\n",
       "         -0.1903, -0.2889],\n",
       "        [-0.2235,  0.3350,  0.1465, -0.1457,  0.1916,  0.2084,  0.1010,  0.3395,\n",
       "         -0.1566, -0.2478],\n",
       "        [-0.1344,  0.2073,  0.1579, -0.0953,  0.1982,  0.2271, -0.1042,  0.2454,\n",
       "         -0.2363, -0.1984]], grad_fn=<AddmmBackward0>)"
      ]
     },
     "execution_count": 72,
     "metadata": {},
     "output_type": "execute_result"
    }
   ],
   "source": [
    "#  Sequential은 순서를 갖는 컨테이너이다. 정의한 순서대로 모듈들을 전달한다\n",
    "seq_modules = nn.Sequential(\n",
    "    nn.Flatten(),\n",
    "    layer1,\n",
    "    nn.ReLU(),\n",
    "    nn.Linear(20, 10)\n",
    ")\n",
    "input_image = torch.rand(3,28,28)\n",
    "logits = seq_modules(input_image)\n",
    "logits\n",
    "\n",
    "# class 확률 예측\n",
    "softmax = nn.Softmax(dim=1)\n",
    "pred_probab = softmax(logits)"
   ]
  },
  {
   "cell_type": "code",
   "execution_count": 73,
   "metadata": {},
   "outputs": [
    {
     "name": "stdout",
     "output_type": "stream",
     "text": [
      "Model structure: NeuralNetwork(\n",
      "  (flatten): Flatten(start_dim=1, end_dim=-1)\n",
      "  (linear_relu_stack): Sequential(\n",
      "    (0): Linear(in_features=784, out_features=512, bias=True)\n",
      "    (1): ReLU()\n",
      "    (2): Linear(in_features=512, out_features=512, bias=True)\n",
      "    (3): ReLU()\n",
      "    (4): Linear(in_features=512, out_features=10, bias=True)\n",
      "  )\n",
      ")\n",
      "\n",
      "\n",
      "Layer: linear_relu_stack.0.weight | Size: torch.Size([512, 784]) | Values : tensor([[-0.0008, -0.0190,  0.0028,  ..., -0.0127,  0.0307,  0.0330],\n",
      "        [ 0.0348, -0.0093,  0.0199,  ...,  0.0272,  0.0145,  0.0346]],\n",
      "       grad_fn=<SliceBackward0>) \n",
      "\n",
      "Layer: linear_relu_stack.0.bias | Size: torch.Size([512]) | Values : tensor([-0.0270, -0.0109], grad_fn=<SliceBackward0>) \n",
      "\n",
      "Layer: linear_relu_stack.2.weight | Size: torch.Size([512, 512]) | Values : tensor([[-0.0135, -0.0242,  0.0160,  ..., -0.0319, -0.0070, -0.0133],\n",
      "        [ 0.0005, -0.0099,  0.0374,  ..., -0.0144, -0.0006,  0.0385]],\n",
      "       grad_fn=<SliceBackward0>) \n",
      "\n",
      "Layer: linear_relu_stack.2.bias | Size: torch.Size([512]) | Values : tensor([-0.0405,  0.0272], grad_fn=<SliceBackward0>) \n",
      "\n",
      "Layer: linear_relu_stack.4.weight | Size: torch.Size([10, 512]) | Values : tensor([[-0.0095,  0.0318, -0.0359,  ...,  0.0042, -0.0353, -0.0202],\n",
      "        [-0.0356,  0.0211,  0.0322,  ...,  0.0196,  0.0187,  0.0315]],\n",
      "       grad_fn=<SliceBackward0>) \n",
      "\n",
      "Layer: linear_relu_stack.4.bias | Size: torch.Size([10]) | Values : tensor([-0.0171, -0.0175], grad_fn=<SliceBackward0>) \n",
      "\n"
     ]
    }
   ],
   "source": [
    "#매개변수들 확인하기\n",
    "\n",
    "print(f\"Model structure: {model}\\n\\n\")\n",
    "\n",
    "for name, param in model.named_parameters():\n",
    "    print(f\"Layer: {name} | Size: {param.size()} | Values : {param[:2]} \\n\")"
   ]
  }
 ],
 "metadata": {
  "kernelspec": {
   "display_name": "Python 3",
   "language": "python",
   "name": "python3"
  },
  "language_info": {
   "codemirror_mode": {
    "name": "ipython",
    "version": 3
   },
   "file_extension": ".py",
   "mimetype": "text/x-python",
   "name": "python",
   "nbconvert_exporter": "python",
   "pygments_lexer": "ipython3",
   "version": "3.11.5"
  }
 },
 "nbformat": 4,
 "nbformat_minor": 2
}
