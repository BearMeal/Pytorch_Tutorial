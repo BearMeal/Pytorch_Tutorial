{
 "cells": [
  {
   "cell_type": "markdown",
   "metadata": {},
   "source": [
    "# AUTOGRD\n",
    "-  torch.autograd라고 불리는 자동 미분 엔진이 내장되어 있다\n",
    "- 매개변수(가중치)는 매개변수에 대한 손실함수의 그래이디언트에 따라 조정 된다\n",
    "- 이때 역전파에 사용할 그래이디언트를 자동계산해주는것이다\n"
   ]
  },
  {
   "cell_type": "code",
   "execution_count": 1,
   "metadata": {},
   "outputs": [
    {
     "name": "stdout",
     "output_type": "stream",
     "text": [
      "y= tensor([0., 0., 0.])\n",
      "z= tensor([2.5155, 1.2765, 3.5287], grad_fn=<AddBackward0>)\n"
     ]
    },
    {
     "data": {
      "text/plain": [
       "tensor(2.5578, grad_fn=<BinaryCrossEntropyWithLogitsBackward0>)"
      ]
     },
     "execution_count": 1,
     "metadata": {},
     "output_type": "execute_result"
    }
   ],
   "source": [
    "import torch\n",
    "\n",
    "x = torch.ones(5)  # tensor([1., 1., 1., 1., 1.]\n",
    "y = torch.zeros(3)  #tensor([0., 0., 0.]\n",
    "\n",
    "w = torch.randn(5,3, requires_grad=True)\n",
    "b = torch.randn(3, requires_grad=True)\n",
    "\n",
    "# 행렬곱\n",
    "z = torch.matmul(x, w) +b\n",
    "print('y=',y)\n",
    "print('z=',z)\n",
    "\n",
    "loss = torch.nn.functional.binary_cross_entropy_with_logits(z, y)\n",
    "# 계산된 손실함수\n",
    "loss"
   ]
  },
  {
   "cell_type": "code",
   "execution_count": 2,
   "metadata": {},
   "outputs": [
    {
     "name": "stdout",
     "output_type": "stream",
     "text": [
      "tensor([[0.3084, 0.2606, 0.3238],\n",
      "        [0.3084, 0.2606, 0.3238],\n",
      "        [0.3084, 0.2606, 0.3238],\n",
      "        [0.3084, 0.2606, 0.3238],\n",
      "        [0.3084, 0.2606, 0.3238]])\n",
      "tensor([0.3084, 0.2606, 0.3238])\n"
     ]
    }
   ],
   "source": [
    "# 그래디언트 계산 하기\n",
    "\n",
    "# 매개변수에 대한 손실함수의 도함수(=변화도) 계산\n",
    "loss.backward()\n",
    "print(w.grad)\n",
    "print(b.grad)"
   ]
  },
  {
   "cell_type": "code",
   "execution_count": null,
   "metadata": {},
   "outputs": [],
   "source": [
    "# 그래디언트 추적 멈추기\n",
    "# 매개변수를 고정하거나, 추론모드에서 사용\n",
    "z = torch.matmul(x, w)+b\n",
    "print(z.requires_grad)  #true\n",
    "\n",
    "\n",
    "# 학습할때는 필요했지만 \n",
    "# 추론(순전파만사용)할때는 그래이디언트를 계산할필요가없다\n",
    "with torch.no_grad():\n",
    "    z = torch.matmul(x, w)+b\n",
    "print(z.requires_grad) #false\n",
    "\n",
    "\n",
    "#또는 detach를해도 동일하다\n",
    "z = torch.matmul(x, w)+b\n",
    "z_det = z.detach()\n",
    "print(z_det.requires_grad)"
   ]
  }
 ],
 "metadata": {
  "kernelspec": {
   "display_name": "Python 3",
   "language": "python",
   "name": "python3"
  },
  "language_info": {
   "codemirror_mode": {
    "name": "ipython",
    "version": 3
   },
   "file_extension": ".py",
   "mimetype": "text/x-python",
   "name": "python",
   "nbconvert_exporter": "python",
   "pygments_lexer": "ipython3",
   "version": "3.11.5"
  }
 },
 "nbformat": 4,
 "nbformat_minor": 2
}
