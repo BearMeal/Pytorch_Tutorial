{
 "cells": [
  {
   "cell_type": "markdown",
   "metadata": {},
   "source": [
    "## 파이토치 기초\n",
    "- 데이터작업을 위한 두 개의 기초요소\n",
    "- DataLoader: Dataset의 샘플과 레이블을 iterable하게 묶어줌"
   ]
  },
  {
   "cell_type": "code",
   "execution_count": 1,
   "metadata": {},
   "outputs": [],
   "source": [
    "import torch\n",
    "from torch import nn\n",
    "from torch.utils.data import DataLoader\n",
    "from torchvision import datasets\n",
    "from torchvision.transforms import ToTensor"
   ]
  },
  {
   "cell_type": "markdown",
   "metadata": {},
   "source": [
    "- 토치비전의 torchvision.datasets 모듈은 Dataset 객체를 가지고있다\n",
    "- 샘플과 레이블을 수정하기 위한 transform and target_transform의 두가지 인자를 가지고 있다"
   ]
  },
  {
   "cell_type": "code",
   "execution_count": 3,
   "metadata": {},
   "outputs": [],
   "source": [
    "#데이터셋 다운로드\n",
    "training_data = datasets.FashionMNIST(\n",
    "    root='data',\n",
    "    train=True,\n",
    "    download=True,\n",
    "    transform=ToTensor(),\n",
    ")\n",
    "\n",
    "test_data = datasets.FashionMNIST(\n",
    "    root='data',\n",
    "    train=False,\n",
    "    download=True,\n",
    "    transform=ToTensor(),\n",
    ")"
   ]
  },
  {
   "cell_type": "markdown",
   "metadata": {},
   "source": [
    "- DataLoader에 Dataset 객체를 인자로 전달한다.\n",
    "- 우리의 데이터셋을 이터레이블하게 감쌀것이다 \n",
    "- 자동배치와 셔플링,샘플링,멀티프로세서데이터로딩을 지원한다.\n",
    "- 배치사이즈를 64로한다. => 데이터로더객체의 각 요소가 features와 labels의 64개 묶음으로 되어있다"
   ]
  },
  {
   "cell_type": "code",
   "execution_count": 4,
   "metadata": {},
   "outputs": [
    {
     "name": "stdout",
     "output_type": "stream",
     "text": [
      "shape of X [N, C, H, W]: torch.Size([64, 1, 28, 28])\n",
      "shape of y: torch.Size([64]),torch.int64\n"
     ]
    }
   ],
   "source": [
    "batch_size = 64\n",
    "\n",
    "#데이터 로더 생성\n",
    "train_dataloader = DataLoader(training_data, batch_size=batch_size)\n",
    "test_dataloader = DataLoader(test_data, batch_size=batch_size)\n",
    "\n",
    "for X, y in test_dataloader:\n",
    "    print(f\"shape of X [N, C, H, W]: {X.shape}\") \n",
    "    print(f\"shape of y: {y.shape},{y.dtype}\")\n",
    "    break"
   ]
  },
  {
   "cell_type": "markdown",
   "metadata": {},
   "source": [
    "## 모델 만들기 \n",
    "- 파이토치에서 신경망을 만들기위해서는 nn.Module에서 상속받은 class를 만든다\n",
    "- 네트워크의 레이어를 __init__함수안에정의한다\n",
    "- 데이터가 신경망을 어떻게 통과할지 forward함수에 특정한다"
   ]
  },
  {
   "cell_type": "code",
   "execution_count": 5,
   "metadata": {},
   "outputs": [
    {
     "name": "stdout",
     "output_type": "stream",
     "text": [
      "using cpu device\n"
     ]
    }
   ],
   "source": [
    "device =(\"cuda\" if torch.cuda.is_available()\n",
    "         else \"cpu\")\n",
    "print(f\"using {device} device\")"
   ]
  },
  {
   "cell_type": "code",
   "execution_count": 6,
   "metadata": {},
   "outputs": [
    {
     "name": "stdout",
     "output_type": "stream",
     "text": [
      "NeuralNetwork(\n",
      "  (flatten): Flatten(start_dim=1, end_dim=-1)\n",
      "  (linear_relu_stack): Sequential(\n",
      "    (0): Linear(in_features=784, out_features=512, bias=True)\n",
      "    (1): ReLU()\n",
      "    (2): Linear(in_features=512, out_features=512, bias=True)\n",
      "    (3): ReLU()\n",
      "    (4): Linear(in_features=512, out_features=10, bias=True)\n",
      "  )\n",
      ")\n"
     ]
    }
   ],
   "source": [
    "# 모델 정의\n",
    "class NeuralNetwork(nn.Module):\n",
    "    def __init__(self):\n",
    "        super().__init__()\n",
    "        self.flatten = nn.Flatten()\n",
    "        #순차적으로 쌓는 레이어 정의\n",
    "        self.linear_relu_stack = nn.Sequential(\n",
    "            #완전연결 선형레이어와 활성화함수이다\n",
    "            nn.Linear(28*28, 512),\n",
    "            nn.ReLU(),\n",
    "            # 512개의 입력을 받아 512개 출력\n",
    "            nn.Linear(512, 512),\n",
    "            # 비선형 변환\n",
    "            nn.ReLU(),\n",
    "            nn.Linear(512, 10),   \n",
    "        )\n",
    "    def forward(self, x):\n",
    "        x = self.flatten(x)\n",
    "        # 로짓은 클래스를 분류한 점수를 의미한다\n",
    "        logits = self.linear_relu_stack(x)\n",
    "        return logits\n",
    "\n",
    "model = NeuralNetwork().to(device)\n",
    "print(model)\n"
   ]
  },
  {
   "cell_type": "markdown",
   "metadata": {},
   "source": [
    "## 모델 파라미터 최적화\n",
    "- 모델 훈련을 위해 loss함수와 optimizer가 필요하다"
   ]
  },
  {
   "cell_type": "code",
   "execution_count": 7,
   "metadata": {},
   "outputs": [],
   "source": [
    "# loss함수는 신경망의 마지막 레이어에서 출력된 점수를 확률로 바꿔준다\n",
    "# 실제 레이블과 다를수록 손실이 증가한다\n",
    "# softmax함수를 내부적으로 자동 적용한다\n",
    "loss_fn = nn.CrossEntropyLoss()\n",
    "# SGD 확률적 경사하강법이다\n",
    "# 파라미터를 업데이트하여 loss함수의 손실을 최소화하는것이다\n",
    "optimizer = torch.optim.SGD(model.parameters(), lr=1e-3)"
   ]
  },
  {
   "cell_type": "markdown",
   "metadata": {},
   "source": [
    "- 각 학습단계에서 모델은 (배치사이즈만큼) 제공되는 데이터셋에 대한 예측을 수행한다\n",
    "- 예측 오류를 역전파하여 모델의 매개변수(가중치와 편향)을 조정한다"
   ]
  },
  {
   "cell_type": "code",
   "execution_count": 39,
   "metadata": {},
   "outputs": [],
   "source": [
    "def train(dataloader, model, loss_fn, optimizer):\n",
    "    # 6만개\n",
    "    size = len(dataloader.dataset)\n",
    "    model.train()\n",
    "    # 938개의 배치\n",
    "    for batch, (X, y) in enumerate(dataloader):\n",
    "        X, y = X.to(device), y.to(device)\n",
    "        \n",
    "        # 예측오류 계산\n",
    "        pred = model(X)\n",
    "        loss = loss_fn(pred, y)\n",
    "        \n",
    "        # 역전파\n",
    "        loss.backward()\n",
    "        optimizer.step()\n",
    "        optimizer.zero_grad()\n",
    "        \n",
    "        if batch % 100 == 0:\n",
    "            loss, current = loss.item(), (batch+1) * len(X)\n",
    "            print(f\"loss:{loss:>7f} [{current:>5d}/{size:>5d}]\")"
   ]
  },
  {
   "cell_type": "markdown",
   "metadata": {},
   "source": [
    "- 모델이 학습을 하는지 확인하기위해 테스트 데이터셋에대해 모델의 성능을 체크할것이다"
   ]
  },
  {
   "cell_type": "code",
   "execution_count": 74,
   "metadata": {},
   "outputs": [],
   "source": [
    "def test(dataloader, model, loss_fn):\n",
    "    #1만개\n",
    "    size = len(dataloader.dataset)\n",
    "    # 157개의 배치\n",
    "    num_batches = len(dataloader)\n",
    "    model.eval()\n",
    "    test_loss, correct = 0, 0\n",
    "    with torch.no_grad():\n",
    "        for X, y in dataloader:\n",
    "            X, y = X.to(device), y.to(device)\n",
    "            pred = model(X)\n",
    "            test_loss += loss_fn(pred, y).item()\n",
    "            correct += (pred.argmax(1) == y).type(torch.float).sum().item()\n",
    "    test_loss /= num_batches\n",
    "    correct /= size\n",
    "    print(f\"Test Error: \\n Accuracy: {(100*correct):>0.1f}%, Avg loss:{test_loss:>8f} \\n\")"
   ]
  },
  {
   "cell_type": "markdown",
   "metadata": {},
   "source": [
    "- 훈련은 여러번의 에포크에 걸쳐수행된다\n",
    "- 모델은 더나은 예측을 위해 각 에포크마다 가중치를 학습한다\n",
    "- 각에포크마다 모델의 정확도와 손실 볼수있다"
   ]
  },
  {
   "cell_type": "code",
   "execution_count": 75,
   "metadata": {},
   "outputs": [
    {
     "name": "stdout",
     "output_type": "stream",
     "text": [
      "Epoch 1\n",
      "-------------------------------\n",
      "loss:2.275752 [64.000000/60000.000000]\n",
      "loss:2.268226 [6464.000000/60000.000000]\n",
      "loss:2.238841 [12864.000000/60000.000000]\n",
      "loss:2.235321 [19264.000000/60000.000000]\n",
      "loss:2.218423 [25664.000000/60000.000000]\n",
      "loss:2.180218 [32064.000000/60000.000000]\n",
      "loss:2.188128 [38464.000000/60000.000000]\n",
      "loss:2.148860 [44864.000000/60000.000000]\n",
      "loss:2.144933 [51264.000000/60000.000000]\n",
      "loss:2.114131 [57664.000000/60000.000000]\n",
      "Test Error: \n",
      " Accuracy: 53.0%, Avg loss:2.107631 \n",
      "\n",
      "Epoch 2\n",
      "-------------------------------\n",
      "loss:2.117478 [64.000000/60000.000000]\n",
      "loss:2.107230 [6464.000000/60000.000000]\n",
      "loss:2.036576 [12864.000000/60000.000000]\n",
      "loss:2.051691 [19264.000000/60000.000000]\n",
      "loss:1.996716 [25664.000000/60000.000000]\n",
      "loss:1.931552 [32064.000000/60000.000000]\n",
      "loss:1.953288 [38464.000000/60000.000000]\n",
      "loss:1.868323 [44864.000000/60000.000000]\n",
      "loss:1.873336 [51264.000000/60000.000000]\n",
      "loss:1.809185 [57664.000000/60000.000000]\n",
      "Test Error: \n",
      " Accuracy: 59.6%, Avg loss:1.803440 \n",
      "\n",
      "Epoch 3\n",
      "-------------------------------\n",
      "loss:1.837734 [64.000000/60000.000000]\n",
      "loss:1.808350 [6464.000000/60000.000000]\n",
      "loss:1.685362 [12864.000000/60000.000000]\n",
      "loss:1.727050 [19264.000000/60000.000000]\n",
      "loss:1.628513 [25664.000000/60000.000000]\n",
      "loss:1.582076 [32064.000000/60000.000000]\n",
      "loss:1.598120 [38464.000000/60000.000000]\n",
      "loss:1.511136 [44864.000000/60000.000000]\n",
      "loss:1.534506 [51264.000000/60000.000000]\n",
      "loss:1.445803 [57664.000000/60000.000000]\n",
      "Test Error: \n",
      " Accuracy: 62.2%, Avg loss:1.461076 \n",
      "\n",
      "Epoch 4\n",
      "-------------------------------\n",
      "loss:1.524123 [64.000000/60000.000000]\n",
      "loss:1.500417 [6464.000000/60000.000000]\n",
      "loss:1.350977 [12864.000000/60000.000000]\n",
      "loss:1.422174 [19264.000000/60000.000000]\n",
      "loss:1.321634 [25664.000000/60000.000000]\n",
      "loss:1.305872 [32064.000000/60000.000000]\n",
      "loss:1.319878 [38464.000000/60000.000000]\n",
      "loss:1.257563 [44864.000000/60000.000000]\n",
      "loss:1.283643 [51264.000000/60000.000000]\n",
      "loss:1.202685 [57664.000000/60000.000000]\n",
      "Test Error: \n",
      " Accuracy: 64.1%, Avg loss:1.223254 \n",
      "\n",
      "Epoch 5\n",
      "-------------------------------\n",
      "loss:1.291458 [64.000000/60000.000000]\n",
      "loss:1.287386 [6464.000000/60000.000000]\n",
      "loss:1.118989 [12864.000000/60000.000000]\n",
      "loss:1.222327 [19264.000000/60000.000000]\n",
      "loss:1.112328 [25664.000000/60000.000000]\n",
      "loss:1.118125 [32064.000000/60000.000000]\n",
      "loss:1.143445 [38464.000000/60000.000000]\n",
      "loss:1.093477 [44864.000000/60000.000000]\n",
      "loss:1.119029 [51264.000000/60000.000000]\n",
      "loss:1.053518 [57664.000000/60000.000000]\n",
      "Test Error: \n",
      " Accuracy: 65.2%, Avg loss:1.068696 \n",
      "\n",
      "Done!\n"
     ]
    }
   ],
   "source": [
    "epochs = 5\n",
    "for t in range(epochs):\n",
    "    print(f\"Epoch {t+1}\\n-------------------------------\")\n",
    "    train(train_dataloader, model, loss_fn, optimizer)\n",
    "    test(test_dataloader, model, loss_fn)\n",
    "print(\"Done!\")\n"
   ]
  },
  {
   "cell_type": "markdown",
   "metadata": {},
   "source": [
    "## 모델 저장\n",
    "- 모델을 저장하는 일반 적인 방법은\n",
    "- 파라미터들을 포함한 내부상태사전을 직렬화하는 것이다\n"
   ]
  },
  {
   "cell_type": "code",
   "execution_count": 76,
   "metadata": {},
   "outputs": [
    {
     "name": "stdout",
     "output_type": "stream",
     "text": [
      "Saved PyTorch Model State to model.pth\n"
     ]
    }
   ],
   "source": [
    "torch.save(model.state_dict(), \"model.pth\")\n",
    "print(\"Saved PyTorch Model State to model.pth\")"
   ]
  },
  {
   "cell_type": "markdown",
   "metadata": {},
   "source": [
    "## 모델 불러오기\n",
    "- 모델을 불러올때는 모델 구조를 다시만들고 내부사전을 모델에 불러오는것이다"
   ]
  },
  {
   "cell_type": "code",
   "execution_count": 77,
   "metadata": {},
   "outputs": [
    {
     "data": {
      "text/plain": [
       "<All keys matched successfully>"
      ]
     },
     "execution_count": 77,
     "metadata": {},
     "output_type": "execute_result"
    }
   ],
   "source": [
    "model = NeuralNetwork().to(device)\n",
    "model.load_state_dict(torch.load(\"model.pth\"))"
   ]
  },
  {
   "cell_type": "code",
   "execution_count": 78,
   "metadata": {},
   "outputs": [
    {
     "name": "stdout",
     "output_type": "stream",
     "text": [
      "Predicted: \"Ankle boot\", Actual: \"Ankle boot\"\n"
     ]
    }
   ],
   "source": [
    "classes = [\n",
    "    \"T-shirt/top\",\n",
    "    \"Trouser\",\n",
    "    \"Pullover\",\n",
    "    \"Dress\",\n",
    "    \"Coat\",\n",
    "    \"Sandal\",\n",
    "    \"Shirt\",\n",
    "    \"Sneaker\",\n",
    "    \"Bag\",\n",
    "    \"Ankle boot\",\n",
    "]\n",
    "\n",
    "model.eval()\n",
    "x, y = test_data[0][0], test_data[0][1]\n",
    "with torch.no_grad():\n",
    "    x = x.to(device)\n",
    "    pred = model(x)\n",
    "    predicted, actual = classes[pred[0].argmax(0)], classes[y]\n",
    "    print(f'Predicted: \"{predicted}\", Actual: \"{actual}\"')"
   ]
  }
 ],
 "metadata": {
  "kernelspec": {
   "display_name": "tcvenv",
   "language": "python",
   "name": "python3"
  },
  "language_info": {
   "codemirror_mode": {
    "name": "ipython",
    "version": 3
   },
   "file_extension": ".py",
   "mimetype": "text/x-python",
   "name": "python",
   "nbconvert_exporter": "python",
   "pygments_lexer": "ipython3",
   "version": "3.11.5"
  }
 },
 "nbformat": 4,
 "nbformat_minor": 2
}
