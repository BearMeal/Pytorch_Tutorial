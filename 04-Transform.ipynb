{
 "cells": [
  {
   "cell_type": "markdown",
   "metadata": {},
   "source": [
    "# Transform\n",
    "- 예를들어 패션mnist 데이터셋의 이미지는 PIL img형식이며 label은 intger 타입이다.\n",
    "- 이러한 형태는 모델학습에 필요한 최종형태는 아니다 따라서 변형이 필요하다\n",
    "- Features 이미지 픽셀값은 0~1 사이값으로 일반화(nomalization) 해야한다\n",
    "- Targets의 one-hot encode등의 방식으로 부호화해야한다"
   ]
  },
  {
   "cell_type": "code",
   "execution_count": 2,
   "metadata": {},
   "outputs": [],
   "source": [
    "import torch \n",
    "from torchvision import datasets\n",
    "from torchvision.transforms import ToTensor, Lambda\n",
    "\n",
    "ds = datasets.FashionMNIST(\n",
    "    root='./data',\n",
    "    train=True,\n",
    "    download=True,\n",
    "    # 피쳐 이미지 데이터를 텐서로 만들기, 일반화를 포함한다\n",
    "    transform=ToTensor(),\n",
    "    # 타겟 정수데이터를 원핫인코딩로 벡터만들기\n",
    "    target_transform=Lambda(lambda y: torch.zeros(10, dtype=torch.float).scatter(\n",
    "        0, torch.tensor(y), value=1  # 해당하는 인덱스에 1넣기\n",
    "    ))\n",
    ")\n"
   ]
  }
 ],
 "metadata": {
  "kernelspec": {
   "display_name": "Python 3",
   "language": "python",
   "name": "python3"
  },
  "language_info": {
   "codemirror_mode": {
    "name": "ipython",
    "version": 3
   },
   "file_extension": ".py",
   "mimetype": "text/x-python",
   "name": "python",
   "nbconvert_exporter": "python",
   "pygments_lexer": "ipython3",
   "version": "3.11.5"
  }
 },
 "nbformat": 4,
 "nbformat_minor": 2
}
