{
 "cells": [
  {
   "cell_type": "markdown",
   "metadata": {},
   "source": [
    "- 텐서는 배열(array) 행렬(matrix)과 유사하다\n",
    "- gpu나 하드웨어 가속에 사용된다는 것을 제외하면 ndarray와 동일하다\n"
   ]
  },
  {
   "cell_type": "code",
   "execution_count": 1,
   "metadata": {},
   "outputs": [],
   "source": [
    "import torch\n",
    "import numpy as np"
   ]
  },
  {
   "cell_type": "code",
   "execution_count": null,
   "metadata": {},
   "outputs": [],
   "source": [
    "# directly 텐서 생성\n",
    "data = [[1, 2], [3, 4]]\n",
    "x_data = torch.tensor(data)\n",
    "print(x_data)"
   ]
  },
  {
   "cell_type": "code",
   "execution_count": null,
   "metadata": {},
   "outputs": [],
   "source": [
    "# numpy에서 생성\n",
    "np_array = np.array(data)\n",
    "print(np_array)\n",
    "x_np = torch.from_numpy(np_array)\n",
    "print(x_np)"
   ]
  },
  {
   "cell_type": "code",
   "execution_count": 8,
   "metadata": {},
   "outputs": [
    {
     "name": "stdout",
     "output_type": "stream",
     "text": [
      "tensor([[0.5387, 0.4604, 0.4356],\n",
      "        [0.5946, 0.2097, 0.3576]])\n"
     ]
    }
   ],
   "source": [
    "# 무작위값 또는 상수 사용하기, 차원 정의하기\n",
    "shape = (2,3,) # 텐서의 차원을 명시\n",
    "rand_tensor = torch.rand(shape) \n",
    "ones_tensor = torch.ones(shape)\n",
    "zeros_tensor = torch.zeros(shape)\n",
    "\n",
    "print(rand_tensor)  "
   ]
  },
  {
   "cell_type": "code",
   "execution_count": 11,
   "metadata": {},
   "outputs": [
    {
     "name": "stdout",
     "output_type": "stream",
     "text": [
      "torch.Size([2, 3])\n",
      "torch.float32\n",
      "cpu\n"
     ]
    }
   ],
   "source": [
    "# 텐서의 속성\n",
    "print(rand_tensor.shape)\n",
    "print(rand_tensor.dtype)\n",
    "print(rand_tensor.device)"
   ]
  },
  {
   "cell_type": "code",
   "execution_count": 20,
   "metadata": {},
   "outputs": [
    {
     "name": "stdout",
     "output_type": "stream",
     "text": [
      "tensor([[1., 1., 1., 1.],\n",
      "        [1., 1., 1., 1.],\n",
      "        [1., 1., 1., 1.],\n",
      "        [1., 1., 1., 1.]])\n",
      "tensor([1., 1., 1., 1.])\n",
      "tensor([1., 1., 1., 1.])\n",
      "tensor([1., 1., 1., 1.])\n",
      "tensor([[1., 0., 1., 0.],\n",
      "        [1., 0., 1., 0.],\n",
      "        [1., 0., 1., 0.],\n",
      "        [1., 0., 1., 0.]])\n"
     ]
    }
   ],
   "source": [
    "# 텐서의 연산(operation)\n",
    "\n",
    "# 인덱싱, 슬라이싱\n",
    "tensor = torch.ones(4, 4)\n",
    "print(tensor)\n",
    "\n",
    "print(tensor[:, 0]) # 첫번째 '열'만\n",
    "print(tensor[:,-1])\n",
    "print(tensor[...,-1])\n",
    "tensor[:,1] = 0 # 1번 열만 0으로 바꾸기\n",
    "tensor[...,-1] = 0\n",
    "print(tensor)"
   ]
  },
  {
   "cell_type": "code",
   "execution_count": 26,
   "metadata": {},
   "outputs": [
    {
     "name": "stdout",
     "output_type": "stream",
     "text": [
      "tensor([[1., 0., 1., 0., 1., 0., 1., 0., 1., 0., 1., 0.],\n",
      "        [1., 0., 1., 0., 1., 0., 1., 0., 1., 0., 1., 0.],\n",
      "        [1., 0., 1., 0., 1., 0., 1., 0., 1., 0., 1., 0.],\n",
      "        [1., 0., 1., 0., 1., 0., 1., 0., 1., 0., 1., 0.]])\n"
     ]
    }
   ],
   "source": [
    "# 텐서 합치기\n",
    "\n",
    "# dim이 axis와 같다 0이면 행방향, 1이면 열방향\n",
    "t1 = torch.cat([tensor,tensor,tensor],dim=1)\n",
    "print(t1)"
   ]
  },
  {
   "cell_type": "code",
   "execution_count": 31,
   "metadata": {},
   "outputs": [
    {
     "name": "stdout",
     "output_type": "stream",
     "text": [
      "tensor([[2., 2., 2., 2.],\n",
      "        [2., 2., 2., 2.],\n",
      "        [2., 2., 2., 2.],\n",
      "        [2., 2., 2., 2.]])\n",
      "tensor([[0.4579, 0.4414, 0.6379, 0.5633],\n",
      "        [0.9794, 0.5465, 0.6653, 0.9293],\n",
      "        [0.2636, 0.2773, 0.5170, 0.9346],\n",
      "        [0.8444, 0.8548, 0.7832, 0.2079]])\n"
     ]
    },
    {
     "data": {
      "text/plain": [
       "tensor([[2., 2., 2., 2.],\n",
       "        [2., 2., 2., 2.],\n",
       "        [2., 2., 2., 2.],\n",
       "        [2., 2., 2., 2.]])"
      ]
     },
     "execution_count": 31,
     "metadata": {},
     "output_type": "execute_result"
    }
   ],
   "source": [
    "# 산술연산\n",
    "y1 = tensor @ tensor.T  # 전치행렬과 행렬곱\n",
    "y2 = tensor.matmul(tensor.T) # 이렇게해도됨\n",
    "print(y1)\n",
    "\n",
    "y3 = torch.rand_like(y1)\n",
    "print(y3)\n",
    "torch.matmul(tensor, tensor.T, out=y3)"
   ]
  },
  {
   "cell_type": "code",
   "execution_count": 39,
   "metadata": {},
   "outputs": [
    {
     "name": "stdout",
     "output_type": "stream",
     "text": [
      "tensor([[1., 0., 1., 0.],\n",
      "        [1., 0., 1., 0.],\n",
      "        [1., 0., 1., 0.],\n",
      "        [1., 0., 1., 0.]])\n"
     ]
    },
    {
     "data": {
      "text/plain": [
       "float"
      ]
     },
     "execution_count": 39,
     "metadata": {},
     "output_type": "execute_result"
    }
   ],
   "source": [
    "# 요소별 곱하기\n",
    "z1 = tensor * tensor\n",
    "z2 = tensor.mul(tensor)\n",
    "print(z1)\n",
    "\n",
    "tensor.sum()  #모든 원소합 arregate\n",
    "tensor.sum().item() # 단일 원소를 python숫자형으로 바꾸기\n",
    "type(tensor.sum().item()) # float으로 나옴"
   ]
  },
  {
   "cell_type": "code",
   "execution_count": 40,
   "metadata": {},
   "outputs": [
    {
     "data": {
      "text/plain": [
       "tensor([[6., 5., 6., 5.],\n",
       "        [6., 5., 6., 5.],\n",
       "        [6., 5., 6., 5.],\n",
       "        [6., 5., 6., 5.]])"
      ]
     },
     "execution_count": 40,
     "metadata": {},
     "output_type": "execute_result"
    }
   ],
   "source": [
    "# 바꿔치기 in-place\n",
    "# 피연산자 operand, 연산자 operator\n",
    "tensor.add_(5) # 모든 요소에 5더하기\n"
   ]
  },
  {
   "cell_type": "code",
   "execution_count": 46,
   "metadata": {},
   "outputs": [
    {
     "name": "stdout",
     "output_type": "stream",
     "text": [
      "tensor([1., 1., 1., 1., 1.])\n",
      "[1. 1. 1. 1. 1.]\n",
      "tensor([2., 2., 2., 2., 2.])\n",
      "[2. 2. 2. 2. 2.]\n"
     ]
    }
   ],
   "source": [
    "# 텐서를 넘파이로 변환하기\n",
    "t = torch.ones(5)\n",
    "print(t)\n",
    "n = t.numpy()\n",
    "print(n)\n",
    "print(t.add_(1)) \n",
    "print(n)  # 텐서의 변경사항이 같이 변함"
   ]
  },
  {
   "cell_type": "code",
   "execution_count": 51,
   "metadata": {},
   "outputs": [
    {
     "name": "stdout",
     "output_type": "stream",
     "text": [
      "[1. 1. 1. 1. 1.]\n",
      "tensor([1., 1., 1., 1., 1.], dtype=torch.float64)\n"
     ]
    }
   ],
   "source": [
    "# 넘파이를 텐서로 변환하기\n",
    "\n",
    "n = np.ones(5)\n",
    "print(n)\n",
    "t = torch.from_numpy(n)\n",
    "print(t)"
   ]
  }
 ],
 "metadata": {
  "kernelspec": {
   "display_name": "Python 3",
   "language": "python",
   "name": "python3"
  },
  "language_info": {
   "codemirror_mode": {
    "name": "ipython",
    "version": 3
   },
   "file_extension": ".py",
   "mimetype": "text/x-python",
   "name": "python",
   "nbconvert_exporter": "python",
   "pygments_lexer": "ipython3",
   "version": "3.11.5"
  }
 },
 "nbformat": 4,
 "nbformat_minor": 2
}
